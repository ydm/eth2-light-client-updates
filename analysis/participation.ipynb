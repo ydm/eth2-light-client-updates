{
 "cells": [
  {
   "cell_type": "code",
   "execution_count": 1,
   "id": "dd204440-fb8f-4a7c-b68b-974cd340d8db",
   "metadata": {},
   "outputs": [],
   "source": [
    "import json\n",
    "from glob import glob\n",
    "import pandas as pd"
   ]
  },
  {
   "cell_type": "code",
   "execution_count": 2,
   "id": "511eb616-638e-4877-985f-f81ee4d47978",
   "metadata": {},
   "outputs": [],
   "source": [
    "def read():\n",
    "    for filename in glob('mainnet/updates/*.json'):\n",
    "        with open(filename, 'r', encoding='ascii') as f:\n",
    "            x = json.load(f)\n",
    "            yield x['sync_aggregate']['sync_committee_bits']"
   ]
  },
  {
   "cell_type": "code",
   "execution_count": 3,
   "id": "abca703d-e6db-4583-9605-d8303d0b1492",
   "metadata": {},
   "outputs": [],
   "source": [
    "popcount = lambda x: bin(int(x, 16)).count('1')\n",
    "xs = pd.Series(map(popcount, read()))"
   ]
  },
  {
   "cell_type": "code",
   "execution_count": 4,
   "id": "59184614-44cd-4b73-b8a9-dac0056507a2",
   "metadata": {},
   "outputs": [
    {
     "data": {
      "text/plain": [
       "512    70\n",
       "511    99\n",
       "510    44\n",
       "509    25\n",
       "508     4\n",
       "504     1\n",
       "497     1\n",
       "dtype: int64"
      ]
     },
     "execution_count": 4,
     "metadata": {},
     "output_type": "execute_result"
    }
   ],
   "source": [
    "xs.value_counts().sort_index(ascending=False)"
   ]
  },
  {
   "cell_type": "code",
   "execution_count": 5,
   "id": "72956eb6-c142-4d8c-8442-70648278ec1a",
   "metadata": {},
   "outputs": [
    {
     "data": {
      "text/plain": [
       "count    244.000000\n",
       "mean       0.997591\n",
       "std        0.002750\n",
       "min        0.970703\n",
       "25%        0.996094\n",
       "50%        0.998047\n",
       "75%        1.000000\n",
       "max        1.000000\n",
       "dtype: float64"
      ]
     },
     "execution_count": 5,
     "metadata": {},
     "output_type": "execute_result"
    }
   ],
   "source": [
    "xs.div(512).describe()"
   ]
  },
  {
   "cell_type": "code",
   "execution_count": 6,
   "id": "c81942f5-a7fb-4da6-ba17-4a3d991e6f02",
   "metadata": {},
   "outputs": [
    {
     "data": {
      "image/png": "[encoded data removed]",
      "text/plain": [
       "<Figure size 432x288 with 1 Axes>"
      ]
     },
     "metadata": {
      "needs_background": "light"
     },
     "output_type": "display_data"
    }
   ],
   "source": [
    "xs.hist();"
   ]
  }
 ],
 "metadata": {
  "kernelspec": {
   "display_name": "Python 3 (ipykernel)",
   "language": "python",
   "name": "python3"
  },
  "language_info": {
   "codemirror_mode": {
    "name": "ipython",
    "version": 3
   },
   "file_extension": ".py",
   "mimetype": "text/x-python",
   "name": "python",
   "nbconvert_exporter": "python",
   "pygments_lexer": "ipython3",
   "version": "3.10.0"
  }
 },
 "nbformat": 4,
 "nbformat_minor": 5
}
